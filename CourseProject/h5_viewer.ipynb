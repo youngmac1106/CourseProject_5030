{
 "cells": [
  {
   "cell_type": "code",
   "execution_count": 19,
   "metadata": {},
   "outputs": [],
   "source": [
    "import pandas as pd\n"
   ]
  },
  {
   "cell_type": "code",
   "execution_count": 24,
   "metadata": {},
   "outputs": [],
   "source": [
    "# Open the file\n",
    "data_dir = '..\\data\\iclr2023_pdf_data_20230210.h5'\n",
    "store = pd.HDFStore(data_dir)"
   ]
  },
  {
   "cell_type": "code",
   "execution_count": 27,
   "metadata": {},
   "outputs": [
    {
     "data": {
      "text/plain": [
       "Index(['id', 'text', 'num_characters', 'num_pages', 'file_size'], dtype='object')"
      ]
     },
     "execution_count": 27,
     "metadata": {},
     "output_type": "execute_result"
    }
   ],
   "source": [
    "store['/df'].keys()"
   ]
  },
  {
   "cell_type": "code",
   "execution_count": 28,
   "metadata": {},
   "outputs": [],
   "source": [
    "text = store['/df']['text']"
   ]
  },
  {
   "cell_type": "code",
   "execution_count": 30,
   "metadata": {},
   "outputs": [
    {
     "data": {
      "text/plain": [
       "pandas.core.series.Series"
      ]
     },
     "execution_count": 30,
     "metadata": {},
     "output_type": "execute_result"
    }
   ],
   "source": [
    "type(text)"
   ]
  },
  {
   "cell_type": "code",
   "execution_count": 16,
   "metadata": {},
   "outputs": [
    {
     "name": "stdout",
     "output_type": "stream",
     "text": [
      "df\n",
      "axis0\n"
     ]
    },
    {
     "ename": "AttributeError",
     "evalue": "'Dataset' object has no attribute 'keys'",
     "output_type": "error",
     "traceback": [
      "\u001b[1;31m---------------------------------------------------------------------------\u001b[0m",
      "\u001b[1;31mAttributeError\u001b[0m                            Traceback (most recent call last)",
      "Cell \u001b[1;32mIn[16], line 14\u001b[0m\n\u001b[0;32m     12\u001b[0m dset_read \u001b[38;5;241m=\u001b[39m f[group\u001b[38;5;241m+\u001b[39m\u001b[38;5;124m'\u001b[39m\u001b[38;5;124m/\u001b[39m\u001b[38;5;124m'\u001b[39m\u001b[38;5;241m+\u001b[39msubgroup]                           \n\u001b[0;32m     13\u001b[0m \u001b[38;5;66;03m#遍历该子组下所有的dataset\u001b[39;00m\n\u001b[1;32m---> 14\u001b[0m \u001b[38;5;28;01mfor\u001b[39;00m dset \u001b[38;5;129;01min\u001b[39;00m \u001b[43mdset_read\u001b[49m\u001b[38;5;241;43m.\u001b[39;49m\u001b[43mkeys\u001b[49m():\n\u001b[0;32m     15\u001b[0m     \u001b[38;5;66;03m#获取dataset数据\u001b[39;00m\n\u001b[0;32m     16\u001b[0m     dset1 \u001b[38;5;241m=\u001b[39m f[group\u001b[38;5;241m+\u001b[39m\u001b[38;5;124m'\u001b[39m\u001b[38;5;124m/\u001b[39m\u001b[38;5;124m'\u001b[39m\u001b[38;5;241m+\u001b[39msubgroup\u001b[38;5;241m+\u001b[39m\u001b[38;5;124m'\u001b[39m\u001b[38;5;124m/\u001b[39m\u001b[38;5;124m'\u001b[39m\u001b[38;5;241m+\u001b[39mdset]\n\u001b[0;32m     17\u001b[0m     \u001b[38;5;28mprint\u001b[39m(dset1\u001b[38;5;241m.\u001b[39mname)\n",
      "\u001b[1;31mAttributeError\u001b[0m: 'Dataset' object has no attribute 'keys'"
     ]
    }
   ],
   "source": [
    "#打开文件\n",
    "f = h5py.File('..\\data\\iclr2023_data_full_20221105.h5','r')\n",
    "#遍历文件中的一级组\n",
    "for group in f.keys():\n",
    "    print (group)\n",
    "    #根据一级组名获得其下面的组\n",
    "    group_read = f[group]\n",
    "    #遍历该一级组下面的子组\n",
    "    for subgroup in group_read.keys():\n",
    "        print(subgroup)     \n",
    "        #根据一级组和二级组名获取其下面的dataset          \n",
    "        dset_read = f[group+'/'+subgroup]                           \n",
    "        #遍历该子组下所有的dataset\n",
    "        for dset in dset_read.keys():\n",
    "            #获取dataset数据\n",
    "            dset1 = f[group+'/'+subgroup+'/'+dset]\n",
    "            print(dset1.name)\n",
    "            data = np.array(dset1)\n",
    "            print(data.shape)\n",
    "            x = data[...,0]\n",
    "            y = data[...,1]        \n"
   ]
  }
 ],
 "metadata": {
  "kernelspec": {
   "display_name": "Python 3.8.6 64-bit",
   "language": "python",
   "name": "python3"
  },
  "language_info": {
   "codemirror_mode": {
    "name": "ipython",
    "version": 3
   },
   "file_extension": ".py",
   "mimetype": "text/x-python",
   "name": "python",
   "nbconvert_exporter": "python",
   "pygments_lexer": "ipython3",
   "version": "3.8.6"
  },
  "orig_nbformat": 4,
  "vscode": {
   "interpreter": {
    "hash": "a409be59cc565fdd9cd1d445dae12795ff47ff2a20843ae007b5519cecc9ca1d"
   }
  }
 },
 "nbformat": 4,
 "nbformat_minor": 2
}
