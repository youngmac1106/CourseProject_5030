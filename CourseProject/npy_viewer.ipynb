{
 "cells": [
  {
   "cell_type": "code",
   "execution_count": 2,
   "metadata": {},
   "outputs": [],
   "source": [
    "import numpy as np\n",
    "import matplotlib.pyplot as plt\n"
   ]
  },
  {
   "cell_type": "code",
   "execution_count": 3,
   "metadata": {},
   "outputs": [],
   "source": [
    "data_path = '../data/iclr_2023_info_with_gender.npy'\n",
    "data = np.load(data_path, allow_pickle=True).item()\n"
   ]
  },
  {
   "cell_type": "code",
   "execution_count": 13,
   "metadata": {},
   "outputs": [
    {
     "data": {
      "text/plain": [
       "4874"
      ]
     },
     "execution_count": 13,
     "metadata": {},
     "output_type": "execute_result"
    }
   ],
   "source": [
    "len(data)"
   ]
  },
  {
   "cell_type": "code",
   "execution_count": 10,
   "metadata": {},
   "outputs": [
    {
     "data": {
      "text/plain": [
       "['kRvZ2PcsxjJj', 'RUzSobdYy0V', 'N3kGYG3ZcTi', 'tmIiMPl4IPa', 'mhnHqRqcjYU']"
      ]
     },
     "execution_count": 10,
     "metadata": {},
     "output_type": "execute_result"
    }
   ],
   "source": [
    "list(data.keys())[:5]"
   ]
  },
  {
   "cell_type": "code",
   "execution_count": 12,
   "metadata": {},
   "outputs": [
    {
     "data": {
      "text/plain": [
       "{'rating_1': [5, 6, 8],\n",
       " 'confidence_1': [4, 3, 3],\n",
       " 'withdraw_1': 0,\n",
       " 'title': 'Quantifying and Mitigating the Impact of Label Errors on Model Disparity Metrics',\n",
       " 'keyword': [],\n",
       " 'area': 'Social Aspects of Machine Learning (eg, AI safety, fairness, privacy, interpretability, human-AI interaction, ethics)',\n",
       " 'rating_2': [5, 6, 8],\n",
       " 'confidence_2': [4, 3, 3],\n",
       " 'withdraw_2': 0,\n",
       " 'rating_3': [5, 6, 8],\n",
       " 'confidence_3': [4, 3, 3],\n",
       " 'withdraw_3': 0,\n",
       " 'decision': 'Accept: poster',\n",
       " 'author': ['Julius Adebayo', 'Melissa Hall', 'Bowen Yu', 'Bobbie Chern'],\n",
       " 'gender': 1,\n",
       " 'gender_info': {'script': 'LATIN',\n",
       "  'id': '63b502b5-9e21-4a57-a4a3-ed1c09813c0e',\n",
       "  'name': 'Julius Adebayo',\n",
       "  'likelyGender': 'male',\n",
       "  'genderScale': -0.7603662228579757,\n",
       "  'score': 7.790072971984657,\n",
       "  'probabilityCalibrated': 0.8801831114289879}}"
      ]
     },
     "execution_count": 12,
     "metadata": {},
     "output_type": "execute_result"
    }
   ],
   "source": [
    "data['RUzSobdYy0V']"
   ]
  }
 ],
 "metadata": {
  "kernelspec": {
   "display_name": "Python 3.8.6 64-bit",
   "language": "python",
   "name": "python3"
  },
  "language_info": {
   "codemirror_mode": {
    "name": "ipython",
    "version": 3
   },
   "file_extension": ".py",
   "mimetype": "text/x-python",
   "name": "python",
   "nbconvert_exporter": "python",
   "pygments_lexer": "ipython3",
   "version": "3.8.6"
  },
  "orig_nbformat": 4,
  "vscode": {
   "interpreter": {
    "hash": "a409be59cc565fdd9cd1d445dae12795ff47ff2a20843ae007b5519cecc9ca1d"
   }
  }
 },
 "nbformat": 4,
 "nbformat_minor": 2
}
